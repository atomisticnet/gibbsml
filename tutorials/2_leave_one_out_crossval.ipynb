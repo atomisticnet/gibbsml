{
 "cells": [
  {
   "cell_type": "code",
   "execution_count": 1,
   "metadata": {},
   "outputs": [],
   "source": [
    "from gibbsml.ellingham.fingerprint import Fingerprint\n",
    "from catlearn.regression import GaussianProcess\n",
    "import numpy as np\n",
    "import matplotlib.pyplot as plt\n",
    "\n",
    "USER_API_KEY = ''  # Type your own Materials Project API key. See https://materialsproject.org/open"
   ]
  },
  {
   "cell_type": "markdown",
   "metadata": {},
   "source": [
    "# Set up model parameters.\n",
    "\n"
   ]
  },
  {
   "cell_type": "code",
   "execution_count": 2,
   "metadata": {
    "pycharm": {
     "name": "#%%\n"
    }
   },
   "outputs": [],
   "source": [
    "reg = 1e-3  # Regularization parameter\n",
    "reg_bounds = (1e-5, 1e-1)\n",
    "kernel = [\n",
    "          {'type': 'gaussian', 'width': 1., 'scaling': 1.},\n",
    "          {'type': 'linear', 'scaling': 1., 'constant': 1.},\n",
    "          ]"
   ]
  },
  {
   "cell_type": "markdown",
   "metadata": {},
   "source": [
    "# Load training set."
   ]
  },
  {
   "cell_type": "code",
   "execution_count": 3,
   "metadata": {
    "pycharm": {
     "name": "#%%\n"
    }
   },
   "outputs": [],
   "source": [
    "\n",
    "fp = Fingerprint(USER_API_KEY=USER_API_KEY)\n",
    "fp.load_set(filename='../gibbsml/ellingham/trainingset_ellingham_08June2020.json')\n",
    "\n",
    "# Get training data and target features (train_y).\n",
    "train_x = list(fp.get_features_values())\n",
    "train_y = list(fp.get_target_features_values(target_feature='dS0_expt'))\n",
    "train_labels = fp.get_labels()\n"
   ]
  },
  {
   "cell_type": "markdown",
   "metadata": {},
   "source": [
    "# Run one-leave-out."
   ]
  },
  {
   "cell_type": "code",
   "execution_count": 4,
   "metadata": {
    "scrolled": true
   },
   "outputs": [
    {
     "name": "stdout",
     "output_type": "stream",
     "text": [
      "Species: Mg2SiO4_mp-2895\n",
      "Experimental slope: [0.22336061]\n",
      "Predicted slope: [[0.21523936]]\n",
      "Error exp. vs calc. (%) [3.63593797]\n",
      "Species: MgTiO3_mp-3771\n",
      "Experimental slope: [0.21723006]\n",
      "Predicted slope: [[0.20012113]]\n",
      "Error exp. vs calc. (%) [7.87594892]\n",
      "Species: MgTi2O5_mp-28232\n",
      "Experimental slope: [0.197454]\n",
      "Predicted slope: [[0.19554007]]\n",
      "Error exp. vs calc. (%) [0.96930751]\n",
      "Species: MgAl2O4_mp-3536\n",
      "Experimental slope: [0.2265789]\n",
      "Predicted slope: [[0.23134625]]\n",
      "Error exp. vs calc. (%) [-2.10405965]\n",
      "Species: LiAlO2_mp-3427\n",
      "Experimental slope: [0.22856241]\n",
      "Predicted slope: [[0.22096077]]\n",
      "Error exp. vs calc. (%) [3.32584682]\n",
      "Species: NaAlO2_mp-9212\n",
      "Experimental slope: [0.22164659]\n",
      "Predicted slope: [[0.22882645]]\n",
      "Error exp. vs calc. (%) [-3.23932555]\n",
      "Species: Al2SiO5_mp-4753\n",
      "Experimental slope: [0.18705777]\n",
      "Predicted slope: [[0.18989162]]\n",
      "Error exp. vs calc. (%) [-1.51495641]\n",
      "Species: Li2SiO3_mp-5012\n",
      "Experimental slope: [0.20627495]\n",
      "Predicted slope: [[0.21082446]]\n",
      "Error exp. vs calc. (%) [-2.20555463]\n",
      "Species: Li2Si2O5_mp-4117\n",
      "Experimental slope: [0.19624514]\n",
      "Predicted slope: [[0.22051896]]\n",
      "Error exp. vs calc. (%) [-12.36913557]\n",
      "Species: Li2TiO3_mp-2931\n",
      "Experimental slope: [0.20348486]\n",
      "Predicted slope: [[0.21046955]]\n",
      "Error exp. vs calc. (%) [-3.43253621]\n",
      "Species: Na2SiO3_mp-4533\n",
      "Experimental slope: [0.21076563]\n",
      "Predicted slope: [[0.20250894]]\n",
      "Error exp. vs calc. (%) [3.91747362]\n",
      "Species: LiFeO2_mp-18782\n",
      "Experimental slope: [0.1656]\n",
      "Predicted slope: [[0.16741925]]\n",
      "Error exp. vs calc. (%) [-1.09857964]\n",
      "Species: LiFe5O8_mp-33551\n",
      "Experimental slope: [0.1691]\n",
      "Predicted slope: [[0.17600273]]\n",
      "Error exp. vs calc. (%) [-4.08204218]\n",
      "Species: Al2O3_mp-1143\n",
      "Experimental slope: [0.22]\n",
      "Predicted slope: [[0.18680686]]\n",
      "Error exp. vs calc. (%) [15.08779119]\n",
      "Species: CoO_mp-19128\n",
      "Experimental slope: [0.16]\n",
      "Predicted slope: [[0.13979567]]\n",
      "Error exp. vs calc. (%) [12.62770635]\n",
      "Species: Cu2O_mp-361\n",
      "Experimental slope: [0.14]\n",
      "Predicted slope: [[0.16231908]]\n",
      "Error exp. vs calc. (%) [-15.94220039]\n",
      "Species: FeO_mp-715262\n",
      "Experimental slope: [0.14]\n",
      "Predicted slope: [[0.15663244]]\n",
      "Error exp. vs calc. (%) [-11.88031175]\n",
      "Species: Fe2O3_mp-715572\n",
      "Experimental slope: [0.17]\n",
      "Predicted slope: [[0.15567637]]\n",
      "Error exp. vs calc. (%) [8.42566657]\n",
      "Species: Li2O_mp-1960\n",
      "Experimental slope: [0.27]\n",
      "Predicted slope: [[0.26843054]]\n",
      "Error exp. vs calc. (%) [0.58128017]\n",
      "Species: Na2O_mp-2352\n",
      "Experimental slope: [0.28]\n",
      "Predicted slope: [[0.2742331]]\n",
      "Error exp. vs calc. (%) [2.05960718]\n",
      "Species: VO_mp-714885\n",
      "Experimental slope: [0.16]\n",
      "Predicted slope: [[0.17038122]]\n",
      "Error exp. vs calc. (%) [-6.48826296]\n",
      "Species: VO2_mp-19094\n",
      "Experimental slope: [0.16]\n",
      "Predicted slope: [[0.16385395]]\n",
      "Error exp. vs calc. (%) [-2.40871852]\n",
      "Species: V2O3_mp-18937\n",
      "Experimental slope: [0.16]\n",
      "Predicted slope: [[0.16681455]]\n",
      "Error exp. vs calc. (%) [-4.25909293]\n",
      "Species: TiO2_mp-554278\n",
      "Experimental slope: [0.18]\n",
      "Predicted slope: [[0.18695457]]\n",
      "Error exp. vs calc. (%) [-3.86364811]\n",
      "Species: SiO2_mp-546794\n",
      "Experimental slope: [0.18]\n",
      "Predicted slope: [[0.18402321]]\n",
      "Error exp. vs calc. (%) [-2.23511723]\n",
      "Species: K2O_mp-971\n",
      "Experimental slope: [0.28]\n",
      "Predicted slope: [[0.27928164]]\n",
      "Error exp. vs calc. (%) [0.25655537]\n",
      "Species: Mn2O3_mp-565203\n",
      "Experimental slope: [0.17]\n",
      "Predicted slope: [[0.1782436]]\n",
      "Error exp. vs calc. (%) [-4.84917807]\n",
      "Species: Mn3O4_mp-18759\n",
      "Experimental slope: [0.17]\n",
      "Predicted slope: [[0.15461213]]\n",
      "Error exp. vs calc. (%) [9.05169085]\n",
      "Species: MgO_mp-1265\n",
      "Experimental slope: [0.22]\n",
      "Predicted slope: [[0.22688667]]\n",
      "Error exp. vs calc. (%) [-3.13030495]\n",
      "Species: Cr2O3_mp-19399\n",
      "Experimental slope: [0.16]\n",
      "Predicted slope: [[0.16488562]]\n",
      "Error exp. vs calc. (%) [-3.05351292]\n",
      "Species: Fe3O4_mp-19306\n",
      "Experimental slope: [0.15]\n",
      "Predicted slope: [[0.1632968]]\n",
      "Error exp. vs calc. (%) [-8.86453108]\n",
      "Species: Ti2O3_mp-458\n",
      "Experimental slope: [0.17]\n",
      "Predicted slope: [[0.19571449]]\n",
      "Error exp. vs calc. (%) [-15.12616817]\n",
      "Species: ZrO2_mp-2858\n",
      "Experimental slope: [0.18]\n",
      "Predicted slope: [[0.16938768]]\n",
      "Error exp. vs calc. (%) [5.89573253]\n"
     ]
    }
   ],
   "source": [
    "\n",
    "total_predictions = []\n",
    "total_uncertainties = []\n",
    "\n",
    "for n_seed in range(0, len(train_x)):\n",
    "    test_x = []\n",
    "    test_y = []\n",
    "    test_labels = []\n",
    "\n",
    "    train_x_loop = train_x.copy()\n",
    "    train_y_loop = train_y.copy()\n",
    "    train_labels_loop = train_labels.copy()\n",
    "\n",
    "    test_x.append(train_x_loop.pop(n_seed))\n",
    "    test_y.append(train_y_loop.pop(n_seed))\n",
    "    test_labels.append(train_labels_loop.pop(n_seed))\n",
    "\n",
    "    # Reshape.\n",
    "    shape_train_x_loop = np.shape(train_x_loop)\n",
    "    train_x_loop = np.reshape(train_x_loop, shape_train_x_loop)\n",
    "    train_y_loop = np.array(train_y_loop)\n",
    "\n",
    "    shape_test_x = np.shape(test_x)\n",
    "    test_x = np.reshape(test_x, shape_test_x)\n",
    "    test_y = np.array(test_y)\n",
    "\n",
    "    # Train the GP model.\n",
    "    gp = GaussianProcess(kernel_list=kernel, regularization=reg,\n",
    "                         regularization_bounds=reg_bounds,\n",
    "                         train_fp=train_x_loop, train_target=train_y_loop,\n",
    "                         optimize_hyperparameters=False,\n",
    "                         scale_data=True)\n",
    "    gp.optimize_hyperparameters(global_opt=False,\n",
    "                                #algomin='L-BFGS-B',\n",
    "                                algomin='TNC',\n",
    "                                eval_jac=True)\n",
    "\n",
    "    # Get the predictions.\n",
    "    prediction = gp.predict(test_fp=test_x, uncertainty=True)\n",
    "    pred = prediction['prediction']\n",
    "    unc = prediction['uncertainty'] * 2\n",
    "\n",
    "    total_predictions.append(pred[0][0])\n",
    "    total_uncertainties.append(unc[0])\n",
    "\n",
    "    print('Species:', train_labels[n_seed])\n",
    "    print('Experimental slope:', train_y[n_seed])\n",
    "    print('Predicted slope:', pred)\n",
    "    print('Error exp. vs calc. (%)',\n",
    "          ((train_y[n_seed] - pred[0][0]) / train_y[n_seed]) * 100)\n"
   ]
  },
  {
   "cell_type": "markdown",
   "metadata": {},
   "source": [
    "# Plots"
   ]
  },
  {
   "cell_type": "code",
   "execution_count": null,
   "metadata": {
    "pycharm": {
     "is_executing": true
    }
   },
   "outputs": [
    {
     "name": "stdout",
     "output_type": "stream",
     "text": [
      "Coefficients: \n",
      " [0.88677551]\n",
      "Mean squared error: 0.0066\n",
      "MAE: 0.01012411214376011\n"
     ]
    }
   ],
   "source": [
    "plt.figure(figsize=(12,12))\n",
    "# Fit values to line:\n",
    "x = np.linspace(0.10, 0.3, 100)\n",
    "plt.plot(x, x, color='red', linestyle='--')\n",
    "\n",
    "from sklearn import datasets, linear_model\n",
    "from sklearn.metrics import mean_squared_error, r2_score\n",
    "regr = linear_model.LinearRegression()\n",
    "\n",
    "reg_train_x = train_y\n",
    "shape_reg_train_x = np.shape(reg_train_x)\n",
    "reg_train_x = np.reshape(reg_train_x, shape_reg_train_x)\n",
    "\n",
    "\n",
    "reg_train_y = [total_predictions]\n",
    "reg_train_y = np.reshape(reg_train_y, -1)\n",
    "\n",
    "# Fit Model:\n",
    "regr.fit(reg_train_x, reg_train_y)\n",
    "\n",
    "linear_fit_line = []\n",
    "for x_test in x:\n",
    "    x_test = np.reshape(x_test, (-1, 1))\n",
    "    linear_fit_line.append(regr.predict(x_test))\n",
    "\n",
    "# Get coefficients:\n",
    "print('Coefficients: \\n', regr.coef_)\n",
    "plt.plot(x, linear_fit_line, color='blue', linewidth=1)\n",
    "\n",
    "\n",
    "mse_of_process = np.sqrt(mean_squared_error(x, linear_fit_line))\n",
    "print('Mean squared error: %.4f'\n",
    "      % np.sqrt(mean_squared_error(x, linear_fit_line)))\n",
    "\n",
    "from sklearn.metrics import mean_absolute_error\n",
    "y_true = train_y\n",
    "y_pred = total_predictions\n",
    "mae_of_process = mean_absolute_error(y_true, y_pred)\n",
    "\n",
    "print('MAE:', mae_of_process)\n",
    "\n",
    "# Plot predicted values:\n",
    "for i in range(0, len(total_predictions)):\n",
    "    x = train_y[i][0]\n",
    "    y = total_predictions[i]\n",
    "    u = total_uncertainties[i]\n",
    "    plt.scatter(x, y, label=train_labels[i], s=100)\n",
    "    plt.errorbar(x=x, y=y, yerr=u, color='black')\n",
    "    plt.errorbar(x=x, y=y, yerr=mae_of_process, color='red')\n",
    "    plt.annotate(train_labels[i], (x + 0.001, y + 0.001))\n",
    "\n",
    "# Plot general tags:\n",
    "plt.xlabel('Experimental slopes')\n",
    "plt.ylabel('Predicted slopes')\n",
    "# plt.xlim(0, 3000)\n",
    "# plt.ylim(0, 3000)\n",
    "plt.show()\n"
   ]
  },
  {
   "cell_type": "code",
   "execution_count": null,
   "metadata": {
    "pycharm": {
     "is_executing": true
    }
   },
   "outputs": [],
   "source": []
  }
 ],
 "metadata": {
  "kernelspec": {
   "display_name": "Python 3",
   "language": "python",
   "name": "python3"
  },
  "language_info": {
   "codemirror_mode": {
    "name": "ipython",
    "version": 3
   },
   "file_extension": ".py",
   "mimetype": "text/x-python",
   "name": "python",
   "nbconvert_exporter": "python",
   "pygments_lexer": "ipython3",
   "version": "3.7.5"
  }
 },
 "nbformat": 4,
 "nbformat_minor": 1
}